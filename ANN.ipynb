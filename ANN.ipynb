{
  "nbformat": 4,
  "nbformat_minor": 0,
  "metadata": {
    "colab": {
      "provenance": [],
      "authorship_tag": "ABX9TyO3z/dbipER2GI7126A5oaK",
      "include_colab_link": true
    },
    "kernelspec": {
      "name": "python3",
      "display_name": "Python 3"
    },
    "language_info": {
      "name": "python"
    }
  },
  "cells": [
    {
      "cell_type": "markdown",
      "metadata": {
        "id": "view-in-github",
        "colab_type": "text"
      },
      "source": [
        "<a href=\"https://colab.research.google.com/github/shreevatsakashyap/Calculator/blob/ml/ANN.ipynb\" target=\"_parent\"><img src=\"https://colab.research.google.com/assets/colab-badge.svg\" alt=\"Open In Colab\"/></a>"
      ]
    },
    {
      "cell_type": "code",
      "execution_count": null,
      "metadata": {
        "id": "00VPUQbI9ntN"
      },
      "outputs": [],
      "source": [
        "import numpy as np\n",
        "import pandas as pd\n",
        "import tensorflow as tf"
      ]
    },
    {
      "cell_type": "code",
      "source": [
        "tf.__version__"
      ],
      "metadata": {
        "colab": {
          "base_uri": "https://localhost:8080/",
          "height": 35
        },
        "id": "uX8gFKQs-ne6",
        "outputId": "7f6ac319-1e30-46d7-ed40-8f8bca9bb955"
      },
      "execution_count": null,
      "outputs": [
        {
          "output_type": "execute_result",
          "data": {
            "text/plain": [
              "'2.11.0'"
            ],
            "application/vnd.google.colaboratory.intrinsic+json": {
              "type": "string"
            }
          },
          "metadata": {},
          "execution_count": 4
        }
      ]
    },
    {
      "cell_type": "code",
      "source": [
        "dataset = pd.read_csv('Churn_Modelling.csv')\n",
        "X = dataset.iloc[:,3:-1].values\n",
        "y= dataset.iloc[:,-1].values"
      ],
      "metadata": {
        "id": "mOGVUIMQ-pr5"
      },
      "execution_count": null,
      "outputs": []
    },
    {
      "cell_type": "code",
      "source": [
        "print(X)"
      ],
      "metadata": {
        "colab": {
          "base_uri": "https://localhost:8080/"
        },
        "id": "tjPF_PhO_zZW",
        "outputId": "31e94cc9-3599-4c93-97b0-4469c0ec2cf0"
      },
      "execution_count": null,
      "outputs": [
        {
          "output_type": "stream",
          "name": "stdout",
          "text": [
            "[[619 'France' 'Female' ... 1 1 101348.88]\n",
            " [608 'Spain' 'Female' ... 0 1 112542.58]\n",
            " [502 'France' 'Female' ... 1 0 113931.57]\n",
            " ...\n",
            " [709 'France' 'Female' ... 0 1 42085.58]\n",
            " [772 'Germany' 'Male' ... 1 0 92888.52]\n",
            " [792 'France' 'Female' ... 1 0 38190.78]]\n"
          ]
        }
      ]
    },
    {
      "cell_type": "code",
      "source": [
        "print(y)"
      ],
      "metadata": {
        "colab": {
          "base_uri": "https://localhost:8080/"
        },
        "id": "T6fKaH7K_y5C",
        "outputId": "9caae423-b7c3-4356-f897-0f757319b9fc"
      },
      "execution_count": null,
      "outputs": [
        {
          "output_type": "stream",
          "name": "stdout",
          "text": [
            "[1 0 1 ... 1 1 0]\n"
          ]
        }
      ]
    },
    {
      "cell_type": "code",
      "source": [
        "from sklearn.preprocessing import LabelEncoder\n",
        "le = LabelEncoder()\n",
        "X[:,2] = le.fit_transform(X[:,2])"
      ],
      "metadata": {
        "id": "zex070Q__5U6"
      },
      "execution_count": null,
      "outputs": []
    },
    {
      "cell_type": "code",
      "source": [
        "print(X)"
      ],
      "metadata": {
        "colab": {
          "base_uri": "https://localhost:8080/"
        },
        "id": "_SoJY9-8AbN8",
        "outputId": "580a19c7-6f44-4a2b-8db2-63299defa0e3"
      },
      "execution_count": null,
      "outputs": [
        {
          "output_type": "stream",
          "name": "stdout",
          "text": [
            "[[619 'France' 0 ... 1 1 101348.88]\n",
            " [608 'Spain' 0 ... 0 1 112542.58]\n",
            " [502 'France' 0 ... 1 0 113931.57]\n",
            " ...\n",
            " [709 'France' 0 ... 0 1 42085.58]\n",
            " [772 'Germany' 1 ... 1 0 92888.52]\n",
            " [792 'France' 0 ... 1 0 38190.78]]\n"
          ]
        }
      ]
    },
    {
      "cell_type": "code",
      "source": [
        "from sklearn.compose import ColumnTransformer\n",
        "from sklearn.preprocessing import OneHotEncoder\n",
        "ct = ColumnTransformer(transformers=[('encoder',OneHotEncoder(),[1])],remainder='passthrough')\n",
        "X = np.array(ct.fit_transform(X))"
      ],
      "metadata": {
        "id": "2p7iYz1aB-fk"
      },
      "execution_count": null,
      "outputs": []
    },
    {
      "cell_type": "code",
      "source": [
        "print(X)"
      ],
      "metadata": {
        "colab": {
          "base_uri": "https://localhost:8080/"
        },
        "id": "iaHUGtBIDdIJ",
        "outputId": "1333e67c-5538-4d3f-df9f-0220ab9add3e"
      },
      "execution_count": null,
      "outputs": [
        {
          "output_type": "stream",
          "name": "stdout",
          "text": [
            "[[1.0 0.0 0.0 ... 1 1 101348.88]\n",
            " [0.0 0.0 1.0 ... 0 1 112542.58]\n",
            " [1.0 0.0 0.0 ... 1 0 113931.57]\n",
            " ...\n",
            " [1.0 0.0 0.0 ... 0 1 42085.58]\n",
            " [0.0 1.0 0.0 ... 1 0 92888.52]\n",
            " [1.0 0.0 0.0 ... 1 0 38190.78]]\n"
          ]
        }
      ]
    },
    {
      "cell_type": "code",
      "source": [
        "from sklearn.model_selection import train_test_split\n",
        "X_train,X_test,y_train,y_test=train_test_split(X,y,test_size=0.2,random_state=0)"
      ],
      "metadata": {
        "id": "TH8ImJqIDdrR"
      },
      "execution_count": null,
      "outputs": []
    },
    {
      "cell_type": "code",
      "source": [
        "from sklearn.preprocessing import StandardScaler\n",
        "sc = StandardScaler()\n",
        "X_train=sc.fit_transform(X_train)\n",
        "X_test=sc.transform(X_test)"
      ],
      "metadata": {
        "id": "tXk_ScRtEKqH"
      },
      "execution_count": null,
      "outputs": []
    },
    {
      "cell_type": "markdown",
      "source": [
        "**initializing  ANN as sequence of layers**\n",
        "\n",
        "\n"
      ],
      "metadata": {
        "id": "Quo1UdXVE2nu"
      }
    },
    {
      "cell_type": "code",
      "source": [
        "from keras.engine.sequential import Sequential\n",
        "ann = Sequential()"
      ],
      "metadata": {
        "id": "k3ZNG5htEwXs"
      },
      "execution_count": null,
      "outputs": []
    },
    {
      "cell_type": "markdown",
      "source": [
        "**adding the new ip layer and the hidden layer**"
      ],
      "metadata": {
        "id": "q_XnKcKfFmx8"
      }
    },
    {
      "cell_type": "code",
      "source": [
        "ann.add(tf.keras.layers.Dense(units=6,activation='relu'))"
      ],
      "metadata": {
        "id": "owIKmNP9FkTo"
      },
      "execution_count": null,
      "outputs": []
    },
    {
      "cell_type": "markdown",
      "source": [
        "**second hl**"
      ],
      "metadata": {
        "id": "thwB-N9TGof6"
      }
    },
    {
      "cell_type": "code",
      "source": [
        "ann.add(tf.keras.layers.Dense(units=7,activation='relu'))"
      ],
      "metadata": {
        "id": "dnQaIr39GmCL"
      },
      "execution_count": null,
      "outputs": []
    },
    {
      "cell_type": "markdown",
      "source": [
        "**op layer**"
      ],
      "metadata": {
        "id": "UGoUAXioGzVu"
      }
    },
    {
      "cell_type": "code",
      "source": [
        "ann.add(tf.keras.layers.Dense(units=1,activation='sigmoid'))"
      ],
      "metadata": {
        "id": "SecFOEc6Gx_8"
      },
      "execution_count": null,
      "outputs": []
    },
    {
      "cell_type": "markdown",
      "source": [],
      "metadata": {
        "id": "OJFRgP6AsKcZ"
      }
    },
    {
      "cell_type": "code",
      "source": [],
      "metadata": {
        "id": "PP2-LynxsGYr"
      },
      "execution_count": null,
      "outputs": []
    },
    {
      "cell_type": "markdown",
      "source": [
        "**training the ann**"
      ],
      "metadata": {
        "id": "Q_Xf9MQpHThO"
      }
    },
    {
      "cell_type": "code",
      "source": [],
      "metadata": {
        "id": "GXopaXZ6sHsz"
      },
      "execution_count": null,
      "outputs": []
    },
    {
      "cell_type": "markdown",
      "source": [
        "**compiling the ann**"
      ],
      "metadata": {
        "id": "sa62SVSZH0l7"
      }
    },
    {
      "cell_type": "code",
      "source": [
        "ann.compile(optimizer = 'adam',loss= 'binary_crossentropy',metrics=['accuracy'])"
      ],
      "metadata": {
        "id": "FhR3SIz7HW6v"
      },
      "execution_count": null,
      "outputs": []
    },
    {
      "cell_type": "markdown",
      "source": [
        "**training the ann on training set**"
      ],
      "metadata": {
        "id": "E3YAW0fGJHdp"
      }
    },
    {
      "cell_type": "code",
      "source": [
        "ann.fit(X_train,y_train,batch_size = 15 , epochs = 120)"
      ],
      "metadata": {
        "colab": {
          "base_uri": "https://localhost:8080/"
        },
        "id": "D86HRGKvJGDO",
        "outputId": "d230c41a-7b88-4338-bb03-fcf4a05cb88e"
      },
      "execution_count": null,
      "outputs": [
        {
          "output_type": "stream",
          "name": "stdout",
          "text": [
            "Epoch 1/120\n",
            "534/534 [==============================] - 2s 2ms/step - loss: 0.5652 - accuracy: 0.7336\n",
            "Epoch 2/120\n",
            "534/534 [==============================] - 1s 2ms/step - loss: 0.4631 - accuracy: 0.7960\n",
            "Epoch 3/120\n",
            "534/534 [==============================] - 1s 2ms/step - loss: 0.4289 - accuracy: 0.8049\n",
            "Epoch 4/120\n",
            "534/534 [==============================] - 1s 2ms/step - loss: 0.3965 - accuracy: 0.8356\n",
            "Epoch 5/120\n",
            "534/534 [==============================] - 1s 2ms/step - loss: 0.3725 - accuracy: 0.8432\n",
            "Epoch 6/120\n",
            "534/534 [==============================] - 1s 3ms/step - loss: 0.3624 - accuracy: 0.8489\n",
            "Epoch 7/120\n",
            "534/534 [==============================] - 1s 2ms/step - loss: 0.3570 - accuracy: 0.8497\n",
            "Epoch 8/120\n",
            "534/534 [==============================] - 1s 2ms/step - loss: 0.3531 - accuracy: 0.8515\n",
            "Epoch 9/120\n",
            "534/534 [==============================] - 1s 2ms/step - loss: 0.3506 - accuracy: 0.8537\n",
            "Epoch 10/120\n",
            "534/534 [==============================] - 1s 2ms/step - loss: 0.3490 - accuracy: 0.8531\n",
            "Epoch 11/120\n",
            "534/534 [==============================] - 1s 2ms/step - loss: 0.3480 - accuracy: 0.8549\n",
            "Epoch 12/120\n",
            "534/534 [==============================] - 1s 2ms/step - loss: 0.3470 - accuracy: 0.8558\n",
            "Epoch 13/120\n",
            "534/534 [==============================] - 1s 2ms/step - loss: 0.3460 - accuracy: 0.8561\n",
            "Epoch 14/120\n",
            "534/534 [==============================] - 1s 2ms/step - loss: 0.3452 - accuracy: 0.8568\n",
            "Epoch 15/120\n",
            "534/534 [==============================] - 1s 2ms/step - loss: 0.3444 - accuracy: 0.8564\n",
            "Epoch 16/120\n",
            "534/534 [==============================] - 1s 2ms/step - loss: 0.3429 - accuracy: 0.8564\n",
            "Epoch 17/120\n",
            "534/534 [==============================] - 1s 2ms/step - loss: 0.3427 - accuracy: 0.8555\n",
            "Epoch 18/120\n",
            "534/534 [==============================] - 1s 2ms/step - loss: 0.3422 - accuracy: 0.8562\n",
            "Epoch 19/120\n",
            "534/534 [==============================] - 1s 2ms/step - loss: 0.3408 - accuracy: 0.8575\n",
            "Epoch 20/120\n",
            "534/534 [==============================] - 1s 2ms/step - loss: 0.3403 - accuracy: 0.8589\n",
            "Epoch 21/120\n",
            "534/534 [==============================] - 1s 2ms/step - loss: 0.3395 - accuracy: 0.8589\n",
            "Epoch 22/120\n",
            "534/534 [==============================] - 1s 2ms/step - loss: 0.3388 - accuracy: 0.8611\n",
            "Epoch 23/120\n",
            "534/534 [==============================] - 1s 2ms/step - loss: 0.3383 - accuracy: 0.8599\n",
            "Epoch 24/120\n",
            "534/534 [==============================] - 1s 2ms/step - loss: 0.3376 - accuracy: 0.8599\n",
            "Epoch 25/120\n",
            "534/534 [==============================] - 1s 2ms/step - loss: 0.3372 - accuracy: 0.8602\n",
            "Epoch 26/120\n",
            "534/534 [==============================] - 1s 2ms/step - loss: 0.3368 - accuracy: 0.8591\n",
            "Epoch 27/120\n",
            "534/534 [==============================] - 1s 2ms/step - loss: 0.3365 - accuracy: 0.8606\n",
            "Epoch 28/120\n",
            "534/534 [==============================] - 1s 2ms/step - loss: 0.3353 - accuracy: 0.8627\n",
            "Epoch 29/120\n",
            "534/534 [==============================] - 1s 2ms/step - loss: 0.3355 - accuracy: 0.8608\n",
            "Epoch 30/120\n",
            "534/534 [==============================] - 1s 2ms/step - loss: 0.3353 - accuracy: 0.8615\n",
            "Epoch 31/120\n",
            "534/534 [==============================] - 1s 2ms/step - loss: 0.3349 - accuracy: 0.8622\n",
            "Epoch 32/120\n",
            "534/534 [==============================] - 1s 2ms/step - loss: 0.3346 - accuracy: 0.8614\n",
            "Epoch 33/120\n",
            "534/534 [==============================] - 1s 2ms/step - loss: 0.3342 - accuracy: 0.8620\n",
            "Epoch 34/120\n",
            "534/534 [==============================] - 1s 2ms/step - loss: 0.3339 - accuracy: 0.8636\n",
            "Epoch 35/120\n",
            "534/534 [==============================] - 1s 2ms/step - loss: 0.3337 - accuracy: 0.8639\n",
            "Epoch 36/120\n",
            "534/534 [==============================] - 1s 2ms/step - loss: 0.3334 - accuracy: 0.8629\n",
            "Epoch 37/120\n",
            "534/534 [==============================] - 1s 2ms/step - loss: 0.3329 - accuracy: 0.8637\n",
            "Epoch 38/120\n",
            "534/534 [==============================] - 1s 2ms/step - loss: 0.3329 - accuracy: 0.8624\n",
            "Epoch 39/120\n",
            "534/534 [==============================] - 1s 2ms/step - loss: 0.3325 - accuracy: 0.8637\n",
            "Epoch 40/120\n",
            "534/534 [==============================] - 1s 2ms/step - loss: 0.3323 - accuracy: 0.8636\n",
            "Epoch 41/120\n",
            "534/534 [==============================] - 1s 2ms/step - loss: 0.3318 - accuracy: 0.8634\n",
            "Epoch 42/120\n",
            "534/534 [==============================] - 1s 2ms/step - loss: 0.3318 - accuracy: 0.8633\n",
            "Epoch 43/120\n",
            "534/534 [==============================] - 1s 3ms/step - loss: 0.3319 - accuracy: 0.8641\n",
            "Epoch 44/120\n",
            "534/534 [==============================] - 1s 2ms/step - loss: 0.3312 - accuracy: 0.8643\n",
            "Epoch 45/120\n",
            "534/534 [==============================] - 1s 2ms/step - loss: 0.3303 - accuracy: 0.8659\n",
            "Epoch 46/120\n",
            "534/534 [==============================] - 1s 2ms/step - loss: 0.3307 - accuracy: 0.8625\n",
            "Epoch 47/120\n",
            "534/534 [==============================] - 1s 2ms/step - loss: 0.3301 - accuracy: 0.8648\n",
            "Epoch 48/120\n",
            "534/534 [==============================] - 1s 2ms/step - loss: 0.3304 - accuracy: 0.8651\n",
            "Epoch 49/120\n",
            "534/534 [==============================] - 1s 2ms/step - loss: 0.3298 - accuracy: 0.8648\n",
            "Epoch 50/120\n",
            "534/534 [==============================] - 1s 2ms/step - loss: 0.3300 - accuracy: 0.8624\n",
            "Epoch 51/120\n",
            "534/534 [==============================] - 1s 2ms/step - loss: 0.3298 - accuracy: 0.8650\n",
            "Epoch 52/120\n",
            "534/534 [==============================] - 1s 2ms/step - loss: 0.3298 - accuracy: 0.8649\n",
            "Epoch 53/120\n",
            "534/534 [==============================] - 1s 2ms/step - loss: 0.3293 - accuracy: 0.8654\n",
            "Epoch 54/120\n",
            "534/534 [==============================] - 1s 2ms/step - loss: 0.3293 - accuracy: 0.8646\n",
            "Epoch 55/120\n",
            "534/534 [==============================] - 1s 2ms/step - loss: 0.3288 - accuracy: 0.8650\n",
            "Epoch 56/120\n",
            "534/534 [==============================] - 1s 2ms/step - loss: 0.3284 - accuracy: 0.8641\n",
            "Epoch 57/120\n",
            "534/534 [==============================] - 1s 2ms/step - loss: 0.3289 - accuracy: 0.8641\n",
            "Epoch 58/120\n",
            "534/534 [==============================] - 1s 2ms/step - loss: 0.3285 - accuracy: 0.8658\n",
            "Epoch 59/120\n",
            "534/534 [==============================] - 1s 2ms/step - loss: 0.3285 - accuracy: 0.8656\n",
            "Epoch 60/120\n",
            "534/534 [==============================] - 1s 2ms/step - loss: 0.3287 - accuracy: 0.8654\n",
            "Epoch 61/120\n",
            "534/534 [==============================] - 1s 2ms/step - loss: 0.3281 - accuracy: 0.8651\n",
            "Epoch 62/120\n",
            "534/534 [==============================] - 1s 3ms/step - loss: 0.3277 - accuracy: 0.8658\n",
            "Epoch 63/120\n",
            "534/534 [==============================] - 2s 3ms/step - loss: 0.3281 - accuracy: 0.8656\n",
            "Epoch 64/120\n",
            "534/534 [==============================] - 1s 2ms/step - loss: 0.3277 - accuracy: 0.8659\n",
            "Epoch 65/120\n",
            "534/534 [==============================] - 1s 2ms/step - loss: 0.3281 - accuracy: 0.8671\n",
            "Epoch 66/120\n",
            "534/534 [==============================] - 1s 3ms/step - loss: 0.3268 - accuracy: 0.8674\n",
            "Epoch 67/120\n",
            "534/534 [==============================] - 1s 2ms/step - loss: 0.3273 - accuracy: 0.8651\n",
            "Epoch 68/120\n",
            "534/534 [==============================] - 1s 2ms/step - loss: 0.3276 - accuracy: 0.8664\n",
            "Epoch 69/120\n",
            "534/534 [==============================] - 1s 2ms/step - loss: 0.3275 - accuracy: 0.8655\n",
            "Epoch 70/120\n",
            "534/534 [==============================] - 1s 2ms/step - loss: 0.3277 - accuracy: 0.8671\n",
            "Epoch 71/120\n",
            "534/534 [==============================] - 1s 2ms/step - loss: 0.3268 - accuracy: 0.8679\n",
            "Epoch 72/120\n",
            "534/534 [==============================] - 1s 2ms/step - loss: 0.3268 - accuracy: 0.8658\n",
            "Epoch 73/120\n",
            "534/534 [==============================] - 1s 2ms/step - loss: 0.3268 - accuracy: 0.8655\n",
            "Epoch 74/120\n",
            "534/534 [==============================] - 1s 2ms/step - loss: 0.3262 - accuracy: 0.8680\n",
            "Epoch 75/120\n",
            "534/534 [==============================] - 1s 2ms/step - loss: 0.3267 - accuracy: 0.8656\n",
            "Epoch 76/120\n",
            "534/534 [==============================] - 1s 2ms/step - loss: 0.3267 - accuracy: 0.8670\n",
            "Epoch 77/120\n",
            "534/534 [==============================] - 1s 2ms/step - loss: 0.3267 - accuracy: 0.8655\n",
            "Epoch 78/120\n",
            "534/534 [==============================] - 1s 2ms/step - loss: 0.3260 - accuracy: 0.8674\n",
            "Epoch 79/120\n",
            "534/534 [==============================] - 1s 2ms/step - loss: 0.3266 - accuracy: 0.8671\n",
            "Epoch 80/120\n",
            "534/534 [==============================] - 1s 2ms/step - loss: 0.3265 - accuracy: 0.8652\n",
            "Epoch 81/120\n",
            "534/534 [==============================] - 1s 2ms/step - loss: 0.3266 - accuracy: 0.8654\n",
            "Epoch 82/120\n",
            "534/534 [==============================] - 1s 2ms/step - loss: 0.3263 - accuracy: 0.8662\n",
            "Epoch 83/120\n",
            "534/534 [==============================] - 1s 2ms/step - loss: 0.3268 - accuracy: 0.8659\n",
            "Epoch 84/120\n",
            "534/534 [==============================] - 1s 2ms/step - loss: 0.3262 - accuracy: 0.8671\n",
            "Epoch 85/120\n",
            "534/534 [==============================] - 1s 2ms/step - loss: 0.3262 - accuracy: 0.8670\n",
            "Epoch 86/120\n",
            "534/534 [==============================] - 1s 2ms/step - loss: 0.3257 - accuracy: 0.8664\n",
            "Epoch 87/120\n",
            "534/534 [==============================] - 1s 2ms/step - loss: 0.3259 - accuracy: 0.8656\n",
            "Epoch 88/120\n",
            "534/534 [==============================] - 1s 2ms/step - loss: 0.3258 - accuracy: 0.8671\n",
            "Epoch 89/120\n",
            "534/534 [==============================] - 1s 2ms/step - loss: 0.3260 - accuracy: 0.8674\n",
            "Epoch 90/120\n",
            "534/534 [==============================] - 1s 2ms/step - loss: 0.3257 - accuracy: 0.8664\n",
            "Epoch 91/120\n",
            "534/534 [==============================] - 1s 3ms/step - loss: 0.3254 - accuracy: 0.8675\n",
            "Epoch 92/120\n",
            "534/534 [==============================] - 1s 2ms/step - loss: 0.3261 - accuracy: 0.8659\n",
            "Epoch 93/120\n",
            "534/534 [==============================] - 1s 2ms/step - loss: 0.3253 - accuracy: 0.8677\n",
            "Epoch 94/120\n",
            "534/534 [==============================] - 1s 2ms/step - loss: 0.3254 - accuracy: 0.8674\n",
            "Epoch 95/120\n",
            "534/534 [==============================] - 1s 2ms/step - loss: 0.3256 - accuracy: 0.8650\n",
            "Epoch 96/120\n",
            "534/534 [==============================] - 1s 2ms/step - loss: 0.3256 - accuracy: 0.8668\n",
            "Epoch 97/120\n",
            "534/534 [==============================] - 1s 2ms/step - loss: 0.3256 - accuracy: 0.8681\n",
            "Epoch 98/120\n",
            "534/534 [==============================] - 1s 2ms/step - loss: 0.3256 - accuracy: 0.8668\n",
            "Epoch 99/120\n",
            "534/534 [==============================] - 1s 2ms/step - loss: 0.3254 - accuracy: 0.8694\n",
            "Epoch 100/120\n",
            "534/534 [==============================] - 1s 2ms/step - loss: 0.3259 - accuracy: 0.8669\n",
            "Epoch 101/120\n",
            "534/534 [==============================] - 1s 2ms/step - loss: 0.3254 - accuracy: 0.8662\n",
            "Epoch 102/120\n",
            "534/534 [==============================] - 1s 2ms/step - loss: 0.3249 - accuracy: 0.8668\n",
            "Epoch 103/120\n",
            "534/534 [==============================] - 1s 3ms/step - loss: 0.3253 - accuracy: 0.8673\n",
            "Epoch 104/120\n",
            "534/534 [==============================] - 1s 2ms/step - loss: 0.3253 - accuracy: 0.8686\n",
            "Epoch 105/120\n",
            "534/534 [==============================] - 1s 2ms/step - loss: 0.3253 - accuracy: 0.8692\n",
            "Epoch 106/120\n",
            "534/534 [==============================] - 1s 2ms/step - loss: 0.3255 - accuracy: 0.8659\n",
            "Epoch 107/120\n",
            "534/534 [==============================] - 1s 2ms/step - loss: 0.3245 - accuracy: 0.8692\n",
            "Epoch 108/120\n",
            "534/534 [==============================] - 1s 2ms/step - loss: 0.3246 - accuracy: 0.8683\n",
            "Epoch 109/120\n",
            "534/534 [==============================] - 1s 2ms/step - loss: 0.3252 - accuracy: 0.8677\n",
            "Epoch 110/120\n",
            "534/534 [==============================] - 1s 2ms/step - loss: 0.3252 - accuracy: 0.8679\n",
            "Epoch 111/120\n",
            "534/534 [==============================] - 1s 2ms/step - loss: 0.3254 - accuracy: 0.8664\n",
            "Epoch 112/120\n",
            "534/534 [==============================] - 1s 2ms/step - loss: 0.3243 - accuracy: 0.8676\n",
            "Epoch 113/120\n",
            "534/534 [==============================] - 1s 2ms/step - loss: 0.3250 - accuracy: 0.8665\n",
            "Epoch 114/120\n",
            "534/534 [==============================] - 1s 2ms/step - loss: 0.3244 - accuracy: 0.8676\n",
            "Epoch 115/120\n",
            "534/534 [==============================] - 1s 3ms/step - loss: 0.3250 - accuracy: 0.8674\n",
            "Epoch 116/120\n",
            "534/534 [==============================] - 1s 2ms/step - loss: 0.3249 - accuracy: 0.8680\n",
            "Epoch 117/120\n",
            "534/534 [==============================] - 1s 2ms/step - loss: 0.3255 - accuracy: 0.8674\n",
            "Epoch 118/120\n",
            "534/534 [==============================] - 1s 2ms/step - loss: 0.3250 - accuracy: 0.8692\n",
            "Epoch 119/120\n",
            "534/534 [==============================] - 1s 2ms/step - loss: 0.3239 - accuracy: 0.8683\n",
            "Epoch 120/120\n",
            "534/534 [==============================] - 1s 2ms/step - loss: 0.3248 - accuracy: 0.8677\n"
          ]
        },
        {
          "output_type": "execute_result",
          "data": {
            "text/plain": [
              "<keras.callbacks.History at 0x7f1ed2ce3430>"
            ]
          },
          "metadata": {},
          "execution_count": 33
        }
      ]
    },
    {
      "cell_type": "code",
      "source": [
        "print(ann.predict(sc.transform([[1,0,0,600,1,40,3,60000,2,1,1,50000]]))>0.5)"
      ],
      "metadata": {
        "colab": {
          "base_uri": "https://localhost:8080/"
        },
        "id": "-FkKLI0rKH_p",
        "outputId": "2ac0a4e0-9679-41f9-a7bf-0494c9d756c7"
      },
      "execution_count": null,
      "outputs": [
        {
          "output_type": "stream",
          "name": "stdout",
          "text": [
            "1/1 [==============================] - 0s 97ms/step\n",
            "[[False]]\n"
          ]
        }
      ]
    },
    {
      "cell_type": "code",
      "source": [
        "y_pred = ann.predict(X_test)\n",
        "y_pred =(y_pred>0.5)\n",
        "print(np.concatenate((y_pred.reshape(len(y_pred),1),y_test.reshape(len(y_test),1)),1))"
      ],
      "metadata": {
        "colab": {
          "base_uri": "https://localhost:8080/"
        },
        "id": "pUSI2XBfL10R",
        "outputId": "79de411e-94d4-4503-9156-31ee7c7162c2"
      },
      "execution_count": null,
      "outputs": [
        {
          "output_type": "stream",
          "name": "stdout",
          "text": [
            "63/63 [==============================] - 0s 3ms/step\n",
            "[[0 0]\n",
            " [0 1]\n",
            " [0 0]\n",
            " ...\n",
            " [0 0]\n",
            " [0 0]\n",
            " [0 0]]\n"
          ]
        }
      ]
    },
    {
      "cell_type": "code",
      "source": [
        "from sklearn.metrics import confusion_matrix,accuracy_score\n",
        "cm = confusion_matrix(y_test,y_pred)\n",
        "print(cm)\n",
        "accuracy_score(y_test,y_pred)"
      ],
      "metadata": {
        "colab": {
          "base_uri": "https://localhost:8080/"
        },
        "id": "rlmY4Hs3Mrck",
        "outputId": "e8bbb706-b202-436b-e2e1-fdbcdee627f6"
      },
      "execution_count": null,
      "outputs": [
        {
          "output_type": "stream",
          "name": "stdout",
          "text": [
            "[[1522   73]\n",
            " [ 199  206]]\n"
          ]
        },
        {
          "output_type": "execute_result",
          "data": {
            "text/plain": [
              "0.864"
            ]
          },
          "metadata": {},
          "execution_count": 42
        }
      ]
    }
  ]
}